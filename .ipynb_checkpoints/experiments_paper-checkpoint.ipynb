{
 "cells": [
  {
   "cell_type": "markdown",
   "id": "0cdf37d8-7be8-4c21-a4c2-52e44dd143a7",
   "metadata": {},
   "source": [
    "## Setup"
   ]
  },
  {
   "cell_type": "code",
   "execution_count": 1,
   "id": "05b2b1db-35e2-4d27-8a12-83a726d9ea59",
   "metadata": {
    "tags": []
   },
   "outputs": [
    {
     "name": "stderr",
     "output_type": "stream",
     "text": [
      "\u001b[32m\u001b[1m  Activating\u001b[22m\u001b[39m environment at `C:\\Users\\Robert\\Documents\\_Work\\Research\\00_Workshop\\data_valuation\\code\\Project.toml`\n"
     ]
    }
   ],
   "source": [
    "# activate local environment\n",
    "import Pkg\n",
    "Pkg.activate(\".\")\n",
    "# instantiate only neccessary when running for the first time (will download and install required packages)\n",
    "# Pkg.instantiate() "
   ]
  },
  {
   "cell_type": "code",
   "execution_count": 2,
   "id": "written-pharmaceutical",
   "metadata": {
    "tags": []
   },
   "outputs": [],
   "source": [
    "# invoke packages\n",
    "using PSDataIO # this is a local package\n",
    "\n",
    "using Random, Distributions\n",
    "using LinearAlgebra\n",
    "using JuMP, Gurobi\n",
    "using SparseArrays\n",
    "using CSV, Tables\n",
    "using DataFrames\n",
    "\n",
    "import PyPlot as plt\n",
    "using Printf\n",
    "using LaTeXStrings"
   ]
  },
  {
   "cell_type": "code",
   "execution_count": 3,
   "id": "retained-hamilton",
   "metadata": {
    "tags": []
   },
   "outputs": [
    {
     "name": "stdout",
     "output_type": "stream",
     "text": [
      "ok\n"
     ]
    }
   ],
   "source": [
    "# load functions and other definitions\n",
    "include(\"tools.jl\")\n",
    "include(\"models.jl\")\n",
    "println(\"ok\")"
   ]
  },
  {
   "cell_type": "markdown",
   "id": "ad9ac1a1-a054-4206-8638-9a6f1eb2bd29",
   "metadata": {},
   "source": [
    "## Setup system data"
   ]
  },
  {
   "cell_type": "code",
   "execution_count": 4,
   "id": "given-expression",
   "metadata": {
    "tags": []
   },
   "outputs": [
    {
     "name": "stdout",
     "output_type": "stream",
     "text": [
      "It's a polynomial cost model\n",
      "All set\n"
     ]
    }
   ],
   "source": [
    "# power system data\n",
    "case_file = \"data/matpower/case5.m\"\n",
    "matdata = read_matpower_m_file(case_file)\n",
    "ps = create_topology_data_from_matpower_data(matdata)\n",
    "\n",
    "ps.branch_smax = [4.; 1.9; 2.2; 1.; 1.; 2.4;] # only 1 and 6 are limited in the case5 dataset\n",
    "ps.wind_loc = [3,5]\n",
    "ps.Nwind = 2\n",
    "w = [100, 150] ./ ps.basemva # wind forecast\n",
    "w_cap = [200, 300] ./ ps.basemva # resource capacity\n",
    "\n",
    "# additonal data\n",
    "d = matdata.bus[:,3] ./ ps.basemva\n",
    "cE = ps.gen_cost_lin\n",
    "cA = [80; 80; 15; 30; 80]\n",
    "cR = cA ./ 10\n",
    "gen2bus = sparse(ps.gen_loc, 1:ps.Ngen, ones(ps.Ngen), ps.Nbus, ps.Ngen)\n",
    "wind2bus = sparse(ps.wind_loc, 1:ps.Nwind, ones(ps.Nwind), ps.Nbus, ps.Nwind)\n",
    "ptdf = create_ptdf_matrix(ps)\n",
    "\n",
    "# done\n",
    "println(\"ok\")"
   ]
  },
  {
   "cell_type": "markdown",
   "id": "returning-programmer",
   "metadata": {},
   "source": [
    "## Run experiment"
   ]
  },
  {
   "cell_type": "code",
   "execution_count": 6,
   "id": "swedish-evaluation",
   "metadata": {
    "tags": []
   },
   "outputs": [
    {
     "name": "stdout",
     "output_type": "stream",
     "text": [
      "Sample means: [0.0, 2.7755575615628915e-18]\n",
      "done\n"
     ]
    }
   ],
   "source": [
    "# settings\n",
    "support_width = kappa = 0.6 \n",
    "N_samples = 20 \n",
    "rel_stdv = [0.15, 0.15]\n",
    "# rel_stdv = [0., 0.]\n",
    "\n",
    "# set simulation data\n",
    "simdat = SimData(ps, cE, cR, cA, d, w, w_cap, support_width, gen2bus, wind2bus, ptdf)\n",
    "Random.seed!(42) # reset seed to ensure reproducable samples\n",
    "samples = create_sample_data_standardized(simdat, N_samples, rel_stdv)\n",
    "println(\"Sample means: $([mean(samples.samples[j]) for j in 1:ps.Nwind])\")\n",
    "\n",
    "# values for epsilon\n",
    "eps_set = [1., 0.1, 0.005, 0.001]\n",
    "\n",
    "# value for gamma\n",
    "gamma = 0.05\n",
    "\n",
    "# some containers for results \n",
    "lam_co_res = Dict{Vector{Float64},Any}()\n",
    "lam_cc_res = Dict{Vector{Float64},Any}()\n",
    "ener_mp_res = Dict{Vector{Float64},Any}()\n",
    "bal_mp_res = Dict{Vector{Float64},Any}()\n",
    "lmps_res = Dict{Vector{Float64},Any}()\n",
    "A_res = Dict{Vector{Float64},Any}()\n",
    "p_res = Dict{Vector{Float64},Any}()\n",
    "rp_res = Dict{Vector{Float64},Any}()\n",
    "rm_res = Dict{Vector{Float64},Any}()\n",
    "obj_res = Dict{Vector{Float64},Any}()\n",
    "beta_up_res = Dict{Vector{Float64},Any}()\n",
    "beta_dn_res = Dict{Vector{Float64},Any}()\n",
    "mu_lo_res = Dict{Vector{Float64},Any}()\n",
    "mu_up_res = Dict{Vector{Float64},Any}()\n",
    "mu_av_res = Dict{Vector{Float64},Any}()\n",
    "eta_res = Dict{Vector{Float64},Any}()\n",
    "a_mat_res = Dict{Vector{Float64},Any}()\n",
    "K_res = Dict{Vector{Float64},Any}()\n",
    "phi_res = Dict{Vector{Float64},Any}()\n",
    "rho_up_res = Dict{Vector{Float64},Any}()\n",
    "rho_lo_res = Dict{Vector{Float64},Any}()\n",
    "rho_av_res = Dict{Vector{Float64},Any}()\n",
    "p_res = Dict{Vector{Float64},Any}()\n",
    "rp_res = Dict{Vector{Float64},Any}()\n",
    "rm_res = Dict{Vector{Float64},Any}()\n",
    "sigma_up_res = Dict{Vector{Float64},Any}()\n",
    "sigma_lo_res = Dict{Vector{Float64},Any}()\n",
    "gencost_res = Dict{Vector{Float64},Any}()\n",
    "rescost_res = Dict{Vector{Float64},Any}()\n",
    "expcost_res = Dict{Vector{Float64},Any}()\n",
    "noresgen_res = Dict{Vector{Float64},Any}()\n",
    "K_res = Dict{Vector{Float64},Any}()\n",
    "tau_res = Dict{Vector{Float64},Any}()\n",
    "psi_res = Dict{Vector{Float64},Any}()\n",
    "solvetime_res = Dict{Vector{Float64},Any}()\n",
    "\n",
    "redirect_stdout(devnull) do # suppress output writing\n",
    "# loop through epsilons\n",
    "for (ei,e) in enumerate(eps_set) \n",
    "    for (eei,ee) in enumerate(eps_set)\n",
    "        # SET\n",
    "        epsilons = [e, ee]\n",
    "\n",
    "        # RUN \n",
    "        println(\">>> $(epsilons)\")\n",
    "        # initial run\n",
    "        res = run_msdro_opf_cvar(simdat, samples, epsilons; gamma=gamma);\n",
    "        # check for generators that don't provide reserve\n",
    "        nores_check = check_for_reserve(res.model)\n",
    "        # re-run with tighter CVaR\n",
    "        if nores_check.flag\n",
    "            res = run_msdro_opf_cvar(simdat, samples, epsilons; gamma=gamma, mileage_cost=false, no_res_gens=nores_check.gens_with_nores)\n",
    "        end\n",
    "        \n",
    "        # GET RESULTS\n",
    "        lam_co_res[epsilons] = value.(res.model[:λ_cost])\n",
    "        lam_cc_res[epsilons] = value.(res.model[:λ_cc])\n",
    "        obj_res[epsilons] = objective_value(res.model)\n",
    "        lmps_res[epsilons] = (dual(res.model[:enerbal]) .+ simdat.ptdf'*(dual.(res.model[:flowlim_up]) .- dual.(res.model[:flowlim_dn])))\n",
    "        bal_mp_res[epsilons] = shadow_price.(res.model[:balbal])\n",
    "        mu_lo_res[epsilons] = dual.(res.model[:mu_lo])\n",
    "        mu_up_res[epsilons] = dual.(res.model[:mu_up])\n",
    "        mu_av_res[epsilons] = dual.(res.model[:mu_av])\n",
    "        eta_res[epsilons] = dual.(res.model[:eta])\n",
    "        A_res[epsilons] = value.(res.model[:A])\n",
    "        a_mat_res[epsilons] = value.(res.a_mat)\n",
    "        K_res[epsilons] = res.K\n",
    "        phi_res[epsilons] = dual.(res.model[:phi])\n",
    "        rho_up_res[epsilons] = dual.(res.model[:rho_up])\n",
    "        rho_lo_res[epsilons] = dual.(res.model[:rho_lo])\n",
    "        rho_av_res[epsilons] = dual.(res.model[:rho_av])\n",
    "        p_res[epsilons] = value.(res.model[:p])\n",
    "        rp_res[epsilons] = value.(res.model[:rp])\n",
    "        rm_res[epsilons] = value.(res.model[:rm])\n",
    "        sigma_up_res[epsilons] = dual.(res.model[:sigma_up])\n",
    "        sigma_lo_res[epsilons] = dual.(res.model[:sigma_lo])\n",
    "        gencost_res[epsilons] = value.(res.gencost)\n",
    "        rescost_res[epsilons] = value.(res.rescost)\n",
    "        expcost_res[epsilons] = value.(res.expcost)\n",
    "        noresgen_res[epsilons] = res.noresgen\n",
    "        K_res[epsilons] = res.K    \n",
    "        tau_res[epsilons] = value(res.model[:τ])\n",
    "        psi_res[epsilons] = dual(res.model[:psi])\n",
    "        solvetime_res[epsilons] = solve_time(res.model)\n",
    "        \n",
    "    end\n",
    "end\n",
    "end # end do\n",
    "\n",
    "println(\"done\")"
   ]
  },
  {
   "cell_type": "markdown",
   "id": "396149a0-735c-42a1-85f2-ba8091a1a53b",
   "metadata": {},
   "source": [
    "## Results"
   ]
  },
  {
   "cell_type": "code",
   "execution_count": 9,
   "id": "31fb01ce-5686-4622-9866-085a039d6dcb",
   "metadata": {
    "tags": []
   },
   "outputs": [
    {
     "name": "stdout",
     "output_type": "stream",
     "text": [
      "    \\textbf{1.0} & 24241.6 & 19293.9 & 18339.2 & 17811.0\\\\\n",
      "    \\textbf{0.1} & 23491.6 & 18543.9 & 17589.2 & 17061.0\\\\\n",
      "    \\textbf{0.005} & 23349.1 & 18401.4 & 17446.7 & 16918.5\\\\\n",
      "    \\textbf{0.001} & 23343.1 & 18395.4 & 17451.2 & 16912.5\\\\\n"
     ]
    }
   ],
   "source": [
    "# Table I: Objective values\n",
    "\n",
    "data=[]\n",
    "Neps = length(eps_set)\n",
    "objective_matrix = zeros(Neps, Neps)\n",
    "for (i1,e1) in enumerate(eps_set)\n",
    "    for (i2,e2) in enumerate(eps_set)\n",
    "        objective_matrix[i1,i2] = obj_res[[e1,e2]]\n",
    "        newdict = Dict(\n",
    "            \"eps1\" => e1,\n",
    "            \"eps2\" => e2, \n",
    "            \"objective\" => obj_res[[e1,e2]]\n",
    "            )\n",
    "        push!(data, newdict)\n",
    "    end\n",
    "end\n",
    "objective_df = DataFrame(data)\n",
    "\n",
    "\n",
    "Table = \"\"\n",
    "for (i1,eps1) in enumerate(eps_set)\n",
    "Table *= \"    \" * \"\\\\textbf{$(eps1)} & \" * join([@sprintf(\"%.1f\", obj) for obj in objective_matrix[i1,:]], \" & \") * \"\\\\\\\\\\n\";\n",
    "end\n",
    "\n",
    "print(Table)                "
   ]
  },
  {
   "cell_type": "code",
   "execution_count": 11,
   "id": "5f257535-a6bf-419d-a9cd-0e7be5fe788a",
   "metadata": {
    "tags": []
   },
   "outputs": [
    {
     "name": "stdout",
     "output_type": "stream",
     "text": [
      "   \\textbf{1.0} & \\textbf{1.0} &0 & 0 & 0.000 & 0.000 \\\\ \n",
      "   \\textbf{1.0} & \\textbf{0.1} &0 & 6901 & 0.000 & 0.000 \\\\ \n",
      "   \\textbf{1.0} & \\textbf{0.005} &0 & 5965 & 0.000 & 0.313 \\\\ \n",
      "   \\textbf{1.0} & \\textbf{0.001} &0 & 8000 & 0.000 & 1.000 \\\\ \n",
      "   \\textbf{0.1} & \\textbf{1.0} &1500 & 0 & 0.000 & 0.000 \\\\ \n",
      "   \\textbf{0.1} & \\textbf{0.1} &1500 & 6901 & 0.000 & 0.000 \\\\ \n",
      "   \\textbf{0.1} & \\textbf{0.005} &1500 & 5965 & 0.000 & 0.313 \\\\ \n",
      "   \\textbf{0.1} & \\textbf{0.001} &1500 & 8000 & 0.000 & 1.000 \\\\ \n",
      "   \\textbf{0.005} & \\textbf{1.0} &1500 & 0 & 0.000 & 0.000 \\\\ \n",
      "   \\textbf{0.005} & \\textbf{0.1} &1500 & 6901 & 0.000 & 0.000 \\\\ \n",
      "   \\textbf{0.005} & \\textbf{0.005} &1500 & 5965 & 0.000 & 0.313 \\\\ \n",
      "   \\textbf{0.005} & \\textbf{0.001} &1500 & 8000 & 0.000 & 1.000 \\\\ \n",
      "   \\textbf{0.001} & \\textbf{1.0} &1500 & 0 & 0.000 & 0.000 \\\\ \n",
      "   \\textbf{0.001} & \\textbf{0.1} &1500 & 6901 & 0.000 & 0.000 \\\\ \n",
      "   \\textbf{0.001} & \\textbf{0.005} &1665 & 5606 & 0.110 & 0.250 \\\\ \n",
      "   \\textbf{0.001} & \\textbf{0.001} &1500 & 8000 & 0.000 & 1.000 \\\\ \n"
     ]
    }
   ],
   "source": [
    "# Table II: Lambdas\n",
    "\n",
    "\n",
    "Table = \"\"\n",
    "for e1 in eps_set\n",
    "    for e2 in eps_set\n",
    "Table *= \"   \\\\textbf{$e1} & \\\\textbf{$e2} &\" *  @sprintf(\"%.0f & %.0f & %.3f & %.3f \\\\\\\\ \\n\", lam_co_res[[e1, e2]][1], lam_co_res[[e1, e2]][2], lam_cc_res[[e1, e2]][1], lam_cc_res[[e1, e2]][2]);\n",
    "    end \n",
    "end\n",
    "\n",
    "print(Table)"
   ]
  },
  {
   "cell_type": "code",
   "execution_count": 12,
   "id": "ef2374c6-a925-40ac-ad94-f917980056e3",
   "metadata": {
    "tags": []
   },
   "outputs": [
    {
     "name": "stdout",
     "output_type": "stream",
     "text": [
      "sum(rp1) = 1.5\n",
      "sum(rp2) = 1.2138285062879177\n",
      "\n",
      "\\textbf{1} & 14 & 80 & 0.40\\textsuperscript{*} & 0.00 & 0.00 & 0.00 & 0.40\\textsuperscript{*} & 0.00 & 0.00 & 0.00\\\\\n",
      "\\textbf{2} & 15 & 80 & 1.70\\textsuperscript{*} & 0.00 & 0.00 & 0.00 & 1.70\\textsuperscript{*} & 0.00 & 0.00 & 0.00\\\\\n",
      "\\textbf{3} & 30 & 15 & 2.34 & 0.75 & 1.00 & 0.17 & 2.31 & 0.74 & 1.00 & 0.31\\\\\n",
      "\\textbf{4} & 40 & 30 & 1.03 & 0.00 & 0.00 & 0.00 & 1.10 & 0.00 & 0.00 & 0.00\\\\\n",
      "\\textbf{5} & 10 & 80 & 2.03 & 0.75 & 0.00 & 0.83 & 2.00 & 0.48 & 0.00 & 0.69\\\\\n"
     ]
    }
   ],
   "source": [
    "# Table III: generator production and reserve\n",
    "\n",
    "eps1 = [1.0, 0.1]\n",
    "eps2 = [1.0, 0.005]\n",
    "\n",
    "A1 = A_res[eps1]\n",
    "p1 = p_res[eps1]\n",
    "rp1 = rp_res[eps1]\n",
    "\n",
    "rp2 = rp_res[eps2]\n",
    "\n",
    "@show sum(rp1)\n",
    "@show sum(rp2)\n",
    "\n",
    "Table = \"\"\n",
    "for g in 1:ps.Ngen\n",
    "Table *= \"\\\\textbf{$g}\"\n",
    "Table *= @sprintf(\" & %d & %d\", cE[g], cA[g])\n",
    "for eps in [eps1, eps2]\n",
    "# cap_flag = (p_res[eps][g] == ps.gen_pmax[g]) ? \"\\\\textsuperscript{*}\" : \"\"\n",
    "cap_flag = (sigma_up_res[eps][g] != 0) ? \"\\\\textsuperscript{*}\" : \"\"\n",
    "lo_flag = (sigma_lo_res[eps][g] != 0) ? \"\\\\textsuperscript{\\\\dagger}\" : \"\"\n",
    "Table *= @sprintf(\" & %.2f%s & %.2f & %.2f & %.2f\", p_res[eps][g], cap_flag, rp_res[eps][g], A_res[eps][g,1], A_res[eps][g,2])\n",
    "end\n",
    "Table *= \"\\\\\\\\\\n\"   \n",
    "end\n",
    "\n",
    "println()\n",
    "print(Table)"
   ]
  },
  {
   "cell_type": "code",
   "execution_count": 15,
   "id": "6e1cb1a0-e452-4c4d-94f5-572e0c29713a",
   "metadata": {
    "tags": []
   },
   "outputs": [
    {
     "name": "stdout",
     "output_type": "stream",
     "text": [
      "\\textbf{1.0} & \\textbf{1.0} & 1500 & 5301 & 900 & 4771 & 0 & 0 & 0 & 1457 & 0 & 0\\\\\n",
      "\\textbf{1.0} & \\textbf{0.1} & 1500 & 6901 & 900 & 0 & 0 & 690 & 0 & 304 & 0 & 0\\\\\n",
      "\\textbf{1.0} & \\textbf{0.005} & 1500 & 5965 & 900 & 0 & 0 & 30 & 0 & 0 & 0 & 304\\\\\n",
      "\\textbf{1.0} & \\textbf{0.001} & 1500 & 8000 & 900 & 0 & 0 & 8 & 0 & 0 & 0 & 163\\\\\n",
      "\\textbf{0.1} & \\textbf{0.001} & 1500 & 8000 & 0 & 0 & 150 & 8 & 0 & 0 & 0 & 163\\\\\n",
      "\\textbf{0.001} & \\textbf{0.005} & 1665 & 5606 & 0 & 0 & 2 & 28 & 0 & 0 & 22 & 256\\\\\n",
      "\\textbf{0.001} & \\textbf{0.001} & 1500 & 8000 & 0 & 0 & 2 & 8 & 0 & 0 & 0 & 163\\\\\n"
     ]
    }
   ],
   "source": [
    "# Table IV: cost components\n",
    "\n",
    "N = samples.Nj[1]\n",
    "\n",
    "Table = \"\"\n",
    "for focus_eps in [[1.0,1.0], [1.0, 0.1], [1.0, 0.005], [1.0, 0.001], [0.1, 0.001], [0.001, 0.005], [0.001, 0.001]]\n",
    "    lam_co = lam_co_res[focus_eps]\n",
    "    lam_cc = lam_cc_res[focus_eps]\n",
    "    mu_lo = mu_lo_res[focus_eps]\n",
    "    phi = phi_res[focus_eps]\n",
    "    cj = cA' * A_res[focus_eps] * ps.basemva\n",
    "    rho_up = rho_up_res[focus_eps]\n",
    "    rho_lo = rho_lo_res[focus_eps]\n",
    "    rho_av = rho_av_res[focus_eps]\n",
    "    a = a_mat_res[focus_eps]\n",
    "    K = K_res[focus_eps]\n",
    "    \n",
    "    # cost for balancing activation as per (23)\n",
    "    balcost = (kappa.*sum(mu_lo[:,i].*(cj[:] .- lam_co[:]) for i in 1:N)) .* w\n",
    "    # from additional data cost\n",
    "    balcost_D = lam_co_res[focus_eps] .* focus_eps\n",
    "    # cost for system reserve as per (23)\n",
    "    syscost = (kappa.* sum(rho_up[:,i,k].*(-a[k,:] .+ lam_cc[:]) .+ rho_lo[:,i,k].*(-a[k,:] .- lam_cc[:]) for i in 1:N for k in 1:K)) .* w\n",
    "    # from additional data cost\n",
    "    syscost_D = lam_cc_res[focus_eps] .* focus_eps .* phi\n",
    "    \n",
    "    Table *= \"\\\\textbf{$(focus_eps[1])} & \\\\textbf{$(focus_eps[2])} &\"\n",
    "    Table *= @sprintf(\" %.0f & %.0f &\", cj[1], cj[2]) \n",
    "    Table *= @sprintf(\" %.0f & %.0f &\", abs(balcost[1]), abs(balcost[2]))\n",
    "    Table *= @sprintf(\" %.0f & %.0f &\", abs(balcost_D[1]), abs(balcost_D[2]))\n",
    "    Table *= @sprintf(\" %.0f & %.0f &\", abs(syscost[1]), abs(syscost[2]))\n",
    "    Table *= @sprintf(\" %.0f & %.0f\", abs(syscost_D[1]), abs(syscost_D[2]))\n",
    "    Table *= \"\\\\\\\\\\n\"\n",
    "end\n",
    "\n",
    "print(Table)"
   ]
  },
  {
   "cell_type": "markdown",
   "id": "e25a43dc-4239-4f03-beaa-50a3a029c21b",
   "metadata": {},
   "source": [
    "## That's it\n",
    "(C) Robert Mieth, 2023. robert.mieth@princeton.edu"
   ]
  }
 ],
 "metadata": {
  "kernelspec": {
   "display_name": "Julia 1.6.3",
   "language": "julia",
   "name": "julia-1.6"
  },
  "language_info": {
   "file_extension": ".jl",
   "mimetype": "application/julia",
   "name": "julia",
   "version": "1.6.3"
  }
 },
 "nbformat": 4,
 "nbformat_minor": 5
}
